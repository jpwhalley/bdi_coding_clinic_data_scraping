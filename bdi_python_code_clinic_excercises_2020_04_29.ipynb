{
 "cells": [
  {
   "cell_type": "markdown",
   "metadata": {},
   "source": [
    "# BDI Python Code Clinic 29th April\n",
    "## Collecting disparate data online by web scraping using Selenium and BeautifulSoup\n",
    "\n",
    "Ideally the data we wish to work on can be downloaded in an easy to use format. Otherwise when we want only a small subset of a very big dataset, or the data is being constantly updated, hopefully the owner will provide an application programming interface (API) to automate the collection of the relevant data. However quite often the data cannot be downloaded and there is no API, but the data is publicly available, just dispersed across a website. When it would be too tedious and time consuming to navigate page by page to collect the data manually; we can use Selenium Webdriver and Beautiful Soup to automate navigating across the website and collecting of the relevant data. In this code clinic, I will go through the best practices (and what not to do!) when web scraping; using Selenium Webdriver to navigate around a website and then using Beautiful Soup to extract the data from the HTML.\n"
   ]
  },
  {
   "cell_type": "markdown",
   "metadata": {},
   "source": [
    "### Section 0: Load the packages and open a remote controlled browser"
   ]
  },
  {
   "cell_type": "code",
   "execution_count": 1,
   "metadata": {},
   "outputs": [],
   "source": [
    "# Import the necessary packages\n",
    "from selenium import webdriver\n",
    "import requests"
   ]
  },
  {
   "cell_type": "code",
   "execution_count": 3,
   "metadata": {},
   "outputs": [
    {
     "data": {
      "text/plain": [
       "<Response [200]>"
      ]
     },
     "execution_count": 3,
     "metadata": {},
     "output_type": "execute_result"
    }
   ],
   "source": [
    "# Fire up Selenium webdriver with the website we want to scrape\n",
    "browser = webdriver.Firefox() # If you use a different browser, replace Firefox with this\n",
    "base_url = \"https://www.literaryclock.com/\"\n",
    "browser.get(base_url)\n",
    "\n",
    "# # Alternatively, use requests\n",
    "# requests.get(base_url, timeout=1) # Hopefully get Response [200], not [404]"
   ]
  },
  {
   "cell_type": "markdown",
   "metadata": {},
   "source": [
    "### Section 1: Navigating around using selenium"
   ]
  },
  {
   "cell_type": "markdown",
   "metadata": {},
   "source": [
    "#### 1.1: Using link text"
   ]
  },
  {
   "cell_type": "code",
   "execution_count": 4,
   "metadata": {},
   "outputs": [
    {
     "name": "stdout",
     "output_type": "stream",
     "text": [
      "<selenium.webdriver.firefox.webelement.FirefoxWebElement (session=\"69c3489c-1a3a-214f-90b3-509039a4d063\", element=\"70fd1970-e570-9d4b-be34-57ef910653af\")>\n"
     ]
    }
   ],
   "source": [
    "# Start navigating around\n",
    "element = browser.find_element_by_link_text(\"Posts\")\n",
    "print(element)"
   ]
  },
  {
   "cell_type": "code",
   "execution_count": 5,
   "metadata": {},
   "outputs": [],
   "source": [
    "element.click()"
   ]
  },
  {
   "cell_type": "markdown",
   "metadata": {},
   "source": [
    "#### 1.2: How to submit text, and limitations of being a robot"
   ]
  },
  {
   "cell_type": "code",
   "execution_count": 6,
   "metadata": {},
   "outputs": [],
   "source": [
    "# Go to text, play around with inputing text\n",
    "browser.find_element_by_link_text(\"Contact\").click()"
   ]
  },
  {
   "cell_type": "code",
   "execution_count": 7,
   "metadata": {},
   "outputs": [
    {
     "name": "stdout",
     "output_type": "stream",
     "text": [
      "<selenium.webdriver.firefox.webelement.FirefoxWebElement (session=\"69c3489c-1a3a-214f-90b3-509039a4d063\", element=\"4c37016b-9077-6a43-beae-5ba007dfb8c2\")>\n"
     ]
    }
   ],
   "source": [
    "# Need to find the boxes to input text\n",
    "element = browser.find_element_by_css_selector('input[id=\"name\"]')\n",
    "print(element)"
   ]
  },
  {
   "cell_type": "code",
   "execution_count": 8,
   "metadata": {},
   "outputs": [],
   "source": [
    "element.send_keys('Justin')"
   ]
  },
  {
   "cell_type": "code",
   "execution_count": 9,
   "metadata": {},
   "outputs": [],
   "source": [
    "# Similarly can you put text in the subject line\n",
    "browser.find_element_by_css_selector('input[id=\"subject\"]').send_keys('Hello!')"
   ]
  },
  {
   "cell_type": "code",
   "execution_count": 10,
   "metadata": {},
   "outputs": [],
   "source": [
    "# Slightly different challenge in inputing data into the message box\n",
    "# Message is not an 'input', it is a textarea\n",
    "browser.find_element_by_css_selector('textarea[id=\"message\"]').send_keys('How are you doing?')"
   ]
  },
  {
   "cell_type": "code",
   "execution_count": null,
   "metadata": {},
   "outputs": [],
   "source": [
    "# Can we automatically pretend not to be a robot, probably not."
   ]
  },
  {
   "cell_type": "code",
   "execution_count": 11,
   "metadata": {},
   "outputs": [],
   "source": [
    "# Now how do we click on the send button\n",
    "browser.find_element_by_css_selector('input[id=\"submit\"]').click()"
   ]
  },
  {
   "cell_type": "markdown",
   "metadata": {},
   "source": [
    "### Section 2: Webscraping time"
   ]
  },
  {
   "cell_type": "markdown",
   "metadata": {},
   "source": [
    "#### 2.1 Can we get a the literary works, their authors and their date"
   ]
  },
  {
   "cell_type": "code",
   "execution_count": 12,
   "metadata": {},
   "outputs": [],
   "source": [
    "# Navigate to Posts\n",
    "browser.find_element_by_link_text(\"Posts\").click()"
   ]
  },
  {
   "cell_type": "code",
   "execution_count": 13,
   "metadata": {},
   "outputs": [
    {
     "ename": "ElementNotInteractableException",
     "evalue": "Message: Element <a href=\"/posts/Lt5_Library\"> could not be scrolled into view\n",
     "output_type": "error",
     "traceback": [
      "\u001b[0;31m---------------------------------------------------------------------------\u001b[0m",
      "\u001b[0;31mElementNotInteractableException\u001b[0m           Traceback (most recent call last)",
      "\u001b[0;32m<ipython-input-13-fb3555475d78>\u001b[0m in \u001b[0;36m<module>\u001b[0;34m()\u001b[0m\n\u001b[1;32m      1\u001b[0m \u001b[0;31m# And now The Literary Clock Library\u001b[0m\u001b[0;34m\u001b[0m\u001b[0;34m\u001b[0m\u001b[0;34m\u001b[0m\u001b[0m\n\u001b[0;32m----> 2\u001b[0;31m \u001b[0mbrowser\u001b[0m\u001b[0;34m.\u001b[0m\u001b[0mfind_element_by_link_text\u001b[0m\u001b[0;34m(\u001b[0m\u001b[0;34m\"The Literary Clock Library\"\u001b[0m\u001b[0;34m)\u001b[0m\u001b[0;34m.\u001b[0m\u001b[0mclick\u001b[0m\u001b[0;34m(\u001b[0m\u001b[0;34m)\u001b[0m\u001b[0;34m\u001b[0m\u001b[0;34m\u001b[0m\u001b[0m\n\u001b[0m",
      "\u001b[0;32m~/anaconda3/lib/python3.7/site-packages/selenium/webdriver/remote/webelement.py\u001b[0m in \u001b[0;36mclick\u001b[0;34m(self)\u001b[0m\n\u001b[1;32m     78\u001b[0m     \u001b[0;32mdef\u001b[0m \u001b[0mclick\u001b[0m\u001b[0;34m(\u001b[0m\u001b[0mself\u001b[0m\u001b[0;34m)\u001b[0m\u001b[0;34m:\u001b[0m\u001b[0;34m\u001b[0m\u001b[0;34m\u001b[0m\u001b[0m\n\u001b[1;32m     79\u001b[0m         \u001b[0;34m\"\"\"Clicks the element.\"\"\"\u001b[0m\u001b[0;34m\u001b[0m\u001b[0;34m\u001b[0m\u001b[0m\n\u001b[0;32m---> 80\u001b[0;31m         \u001b[0mself\u001b[0m\u001b[0;34m.\u001b[0m\u001b[0m_execute\u001b[0m\u001b[0;34m(\u001b[0m\u001b[0mCommand\u001b[0m\u001b[0;34m.\u001b[0m\u001b[0mCLICK_ELEMENT\u001b[0m\u001b[0;34m)\u001b[0m\u001b[0;34m\u001b[0m\u001b[0;34m\u001b[0m\u001b[0m\n\u001b[0m\u001b[1;32m     81\u001b[0m \u001b[0;34m\u001b[0m\u001b[0m\n\u001b[1;32m     82\u001b[0m     \u001b[0;32mdef\u001b[0m \u001b[0msubmit\u001b[0m\u001b[0;34m(\u001b[0m\u001b[0mself\u001b[0m\u001b[0;34m)\u001b[0m\u001b[0;34m:\u001b[0m\u001b[0;34m\u001b[0m\u001b[0;34m\u001b[0m\u001b[0m\n",
      "\u001b[0;32m~/anaconda3/lib/python3.7/site-packages/selenium/webdriver/remote/webelement.py\u001b[0m in \u001b[0;36m_execute\u001b[0;34m(self, command, params)\u001b[0m\n\u001b[1;32m    631\u001b[0m             \u001b[0mparams\u001b[0m \u001b[0;34m=\u001b[0m \u001b[0;34m{\u001b[0m\u001b[0;34m}\u001b[0m\u001b[0;34m\u001b[0m\u001b[0;34m\u001b[0m\u001b[0m\n\u001b[1;32m    632\u001b[0m         \u001b[0mparams\u001b[0m\u001b[0;34m[\u001b[0m\u001b[0;34m'id'\u001b[0m\u001b[0;34m]\u001b[0m \u001b[0;34m=\u001b[0m \u001b[0mself\u001b[0m\u001b[0;34m.\u001b[0m\u001b[0m_id\u001b[0m\u001b[0;34m\u001b[0m\u001b[0;34m\u001b[0m\u001b[0m\n\u001b[0;32m--> 633\u001b[0;31m         \u001b[0;32mreturn\u001b[0m \u001b[0mself\u001b[0m\u001b[0;34m.\u001b[0m\u001b[0m_parent\u001b[0m\u001b[0;34m.\u001b[0m\u001b[0mexecute\u001b[0m\u001b[0;34m(\u001b[0m\u001b[0mcommand\u001b[0m\u001b[0;34m,\u001b[0m \u001b[0mparams\u001b[0m\u001b[0;34m)\u001b[0m\u001b[0;34m\u001b[0m\u001b[0;34m\u001b[0m\u001b[0m\n\u001b[0m\u001b[1;32m    634\u001b[0m \u001b[0;34m\u001b[0m\u001b[0m\n\u001b[1;32m    635\u001b[0m     \u001b[0;32mdef\u001b[0m \u001b[0mfind_element\u001b[0m\u001b[0;34m(\u001b[0m\u001b[0mself\u001b[0m\u001b[0;34m,\u001b[0m \u001b[0mby\u001b[0m\u001b[0;34m=\u001b[0m\u001b[0mBy\u001b[0m\u001b[0;34m.\u001b[0m\u001b[0mID\u001b[0m\u001b[0;34m,\u001b[0m \u001b[0mvalue\u001b[0m\u001b[0;34m=\u001b[0m\u001b[0;32mNone\u001b[0m\u001b[0;34m)\u001b[0m\u001b[0;34m:\u001b[0m\u001b[0;34m\u001b[0m\u001b[0;34m\u001b[0m\u001b[0m\n",
      "\u001b[0;32m~/anaconda3/lib/python3.7/site-packages/selenium/webdriver/remote/webdriver.py\u001b[0m in \u001b[0;36mexecute\u001b[0;34m(self, driver_command, params)\u001b[0m\n\u001b[1;32m    319\u001b[0m         \u001b[0mresponse\u001b[0m \u001b[0;34m=\u001b[0m \u001b[0mself\u001b[0m\u001b[0;34m.\u001b[0m\u001b[0mcommand_executor\u001b[0m\u001b[0;34m.\u001b[0m\u001b[0mexecute\u001b[0m\u001b[0;34m(\u001b[0m\u001b[0mdriver_command\u001b[0m\u001b[0;34m,\u001b[0m \u001b[0mparams\u001b[0m\u001b[0;34m)\u001b[0m\u001b[0;34m\u001b[0m\u001b[0;34m\u001b[0m\u001b[0m\n\u001b[1;32m    320\u001b[0m         \u001b[0;32mif\u001b[0m \u001b[0mresponse\u001b[0m\u001b[0;34m:\u001b[0m\u001b[0;34m\u001b[0m\u001b[0;34m\u001b[0m\u001b[0m\n\u001b[0;32m--> 321\u001b[0;31m             \u001b[0mself\u001b[0m\u001b[0;34m.\u001b[0m\u001b[0merror_handler\u001b[0m\u001b[0;34m.\u001b[0m\u001b[0mcheck_response\u001b[0m\u001b[0;34m(\u001b[0m\u001b[0mresponse\u001b[0m\u001b[0;34m)\u001b[0m\u001b[0;34m\u001b[0m\u001b[0;34m\u001b[0m\u001b[0m\n\u001b[0m\u001b[1;32m    322\u001b[0m             response['value'] = self._unwrap_value(\n\u001b[1;32m    323\u001b[0m                 response.get('value', None))\n",
      "\u001b[0;32m~/anaconda3/lib/python3.7/site-packages/selenium/webdriver/remote/errorhandler.py\u001b[0m in \u001b[0;36mcheck_response\u001b[0;34m(self, response)\u001b[0m\n\u001b[1;32m    240\u001b[0m                 \u001b[0malert_text\u001b[0m \u001b[0;34m=\u001b[0m \u001b[0mvalue\u001b[0m\u001b[0;34m[\u001b[0m\u001b[0;34m'alert'\u001b[0m\u001b[0;34m]\u001b[0m\u001b[0;34m.\u001b[0m\u001b[0mget\u001b[0m\u001b[0;34m(\u001b[0m\u001b[0;34m'text'\u001b[0m\u001b[0;34m)\u001b[0m\u001b[0;34m\u001b[0m\u001b[0;34m\u001b[0m\u001b[0m\n\u001b[1;32m    241\u001b[0m             \u001b[0;32mraise\u001b[0m \u001b[0mexception_class\u001b[0m\u001b[0;34m(\u001b[0m\u001b[0mmessage\u001b[0m\u001b[0;34m,\u001b[0m \u001b[0mscreen\u001b[0m\u001b[0;34m,\u001b[0m \u001b[0mstacktrace\u001b[0m\u001b[0;34m,\u001b[0m \u001b[0malert_text\u001b[0m\u001b[0;34m)\u001b[0m\u001b[0;34m\u001b[0m\u001b[0;34m\u001b[0m\u001b[0m\n\u001b[0;32m--> 242\u001b[0;31m         \u001b[0;32mraise\u001b[0m \u001b[0mexception_class\u001b[0m\u001b[0;34m(\u001b[0m\u001b[0mmessage\u001b[0m\u001b[0;34m,\u001b[0m \u001b[0mscreen\u001b[0m\u001b[0;34m,\u001b[0m \u001b[0mstacktrace\u001b[0m\u001b[0;34m)\u001b[0m\u001b[0;34m\u001b[0m\u001b[0;34m\u001b[0m\u001b[0m\n\u001b[0m\u001b[1;32m    243\u001b[0m \u001b[0;34m\u001b[0m\u001b[0m\n\u001b[1;32m    244\u001b[0m     \u001b[0;32mdef\u001b[0m \u001b[0m_value_or_default\u001b[0m\u001b[0;34m(\u001b[0m\u001b[0mself\u001b[0m\u001b[0;34m,\u001b[0m \u001b[0mobj\u001b[0m\u001b[0;34m,\u001b[0m \u001b[0mkey\u001b[0m\u001b[0;34m,\u001b[0m \u001b[0mdefault\u001b[0m\u001b[0;34m)\u001b[0m\u001b[0;34m:\u001b[0m\u001b[0;34m\u001b[0m\u001b[0;34m\u001b[0m\u001b[0m\n",
      "\u001b[0;31mElementNotInteractableException\u001b[0m: Message: Element <a href=\"/posts/Lt5_Library\"> could not be scrolled into view\n"
     ]
    }
   ],
   "source": [
    "# And now The Literary Clock Library\n",
    "browser.find_element_by_link_text(\"The Literary Clock Library\").click()"
   ]
  },
  {
   "cell_type": "code",
   "execution_count": 14,
   "metadata": {},
   "outputs": [],
   "source": [
    "# Use javascript to click on the element instead\n",
    "element = browser.find_element_by_link_text(\"The Literary Clock Library\")\n",
    "browser.execute_script(\"arguments[0].click();\", element)"
   ]
  },
  {
   "cell_type": "code",
   "execution_count": 16,
   "metadata": {},
   "outputs": [],
   "source": [
    "# And now to the 1500s\n",
    "browser.find_element_by_link_text(\"1500s\").click()"
   ]
  },
  {
   "cell_type": "code",
   "execution_count": 27,
   "metadata": {},
   "outputs": [],
   "source": [
    "# Can we grab the plays first performed in the 1500s\n",
    "from bs4 import BeautifulSoup\n",
    "from time import sleep\n",
    "\n",
    "html_source = browser.page_source\n",
    "soup = BeautifulSoup(html_source, 'html.parser')\n",
    "\n",
    "# # Alternative with requests\n",
    "# html = requests.get(base_url+'library/1500', timeout=1)\n",
    "# soup = BeautifulSoup(html.text, 'html.parser')"
   ]
  },
  {
   "cell_type": "code",
   "execution_count": 28,
   "metadata": {},
   "outputs": [
    {
     "name": "stdout",
     "output_type": "stream",
     "text": [
      "<li><a href=\"/\">Home</a></li>\n"
     ]
    }
   ],
   "source": [
    "# Looking at the 'li' tag\n",
    "print(soup.li)"
   ]
  },
  {
   "cell_type": "code",
   "execution_count": 29,
   "metadata": {},
   "outputs": [
    {
     "name": "stdout",
     "output_type": "stream",
     "text": [
      "[<li><a href=\"/\">Home</a></li>, <li><a href=\"/posts/\">Posts</a></li>, <li><a href=\"/contact\">Contact</a></li>, <li>1591: King Richard III by William Shakespeare</li>, <li>1599: As You Like It by William Shakespeare</li>]\n"
     ]
    }
   ],
   "source": [
    "# OK, get all the 'li' tags\n",
    "print(soup.findAll('li'))"
   ]
  },
  {
   "cell_type": "code",
   "execution_count": 30,
   "metadata": {},
   "outputs": [
    {
     "name": "stdout",
     "output_type": "stream",
     "text": [
      "<a href=\"/\">Home</a>\n",
      "<a href=\"/posts/\">Posts</a>\n",
      "<a href=\"/contact\">Contact</a>\n",
      "None\n",
      "None\n"
     ]
    }
   ],
   "source": [
    "# Look to see if it is a link or not\n",
    "for i in soup.findAll('li'):\n",
    "    print(i.a)\n",
    "    "
   ]
  },
  {
   "cell_type": "code",
   "execution_count": 31,
   "metadata": {},
   "outputs": [
    {
     "name": "stdout",
     "output_type": "stream",
     "text": [
      "/\n",
      "/posts/\n",
      "/contact\n"
     ]
    }
   ],
   "source": [
    "# So we can filter out by link (and we can also look at the link)\n",
    "for i in soup.findAll('li'):\n",
    "    if i.a != None:\n",
    "        print(i.a['href'])"
   ]
  },
  {
   "cell_type": "code",
   "execution_count": 32,
   "metadata": {},
   "outputs": [],
   "source": [
    "books = {}\n",
    "counter = 0\n",
    "for i in soup.findAll('li'):\n",
    "    if i.a == None:\n",
    "        books[counter] = {}\n",
    "        \n",
    "        book = i.string\n",
    "        \n",
    "        books[counter]['Year'] = int(book[:4])\n",
    "        \n",
    "        temp = book[6:].split(' by ')\n",
    "        \n",
    "        books[counter]['Title'] = temp[0]\n",
    "        books[counter]['Author'] = temp[1]\n",
    "        \n",
    "        counter +=1"
   ]
  },
  {
   "cell_type": "code",
   "execution_count": 35,
   "metadata": {},
   "outputs": [
    {
     "name": "stdout",
     "output_type": "stream",
     "text": [
      "   Year                                   Title               Author\n",
      "0  1591                        King Richard III  William Shakespeare\n",
      "1  1599                          As You Like It  William Shakespeare\n",
      "2  1603                                  Hamlet  William Shakespeare\n",
      "3  1623                                 Macbeth  William Shakespeare\n",
      "4  1669  The Diary of Samuel Pepys: A Selection         Samuel Pepys\n"
     ]
    }
   ],
   "source": [
    "# Can now look at this in a dataframe\n",
    "import pandas as pd\n",
    "df = pd.DataFrame(books).T\n",
    "print(df)"
   ]
  },
  {
   "cell_type": "code",
   "execution_count": 34,
   "metadata": {},
   "outputs": [],
   "source": [
    "# OK, lets add the 1600s\n",
    "browser.find_element_by_partial_link_text(\"Next\").click() # Nice alternative to find_element_by_link_text\n",
    "\n",
    "html_source = browser.page_source\n",
    "soup = BeautifulSoup(html_source, 'html.parser')\n",
    "\n",
    "# Now put all of the books from this page into the \"books\" dictionary\n",
    "for i in soup.findAll('li'):\n",
    "    if i.a == None:\n",
    "        books[counter] = {}\n",
    "        \n",
    "        book = i.string\n",
    "        \n",
    "        books[counter]['Year'] = int(book[:4])\n",
    "        \n",
    "        temp = book[6:].split(' by ')\n",
    "        \n",
    "        books[counter]['Title'] = temp[0]\n",
    "        books[counter]['Author'] = temp[1]\n",
    "        \n",
    "        counter +=1"
   ]
  },
  {
   "cell_type": "markdown",
   "metadata": {},
   "source": [
    "#### 2.2 Automatically get all the literary works, their authors and their date"
   ]
  },
  {
   "cell_type": "code",
   "execution_count": 36,
   "metadata": {},
   "outputs": [
    {
     "ename": "IndexError",
     "evalue": "list index out of range",
     "output_type": "error",
     "traceback": [
      "\u001b[0;31m---------------------------------------------------------------------------\u001b[0m",
      "\u001b[0;31mIndexError\u001b[0m                                Traceback (most recent call last)",
      "\u001b[0;32m<ipython-input-36-ce3876ce056b>\u001b[0m in \u001b[0;36m<module>\u001b[0;34m()\u001b[0m\n\u001b[1;32m     22\u001b[0m \u001b[0;34m\u001b[0m\u001b[0m\n\u001b[1;32m     23\u001b[0m             \u001b[0mbooks\u001b[0m\u001b[0;34m[\u001b[0m\u001b[0mcounter\u001b[0m\u001b[0;34m]\u001b[0m\u001b[0;34m[\u001b[0m\u001b[0;34m'Title'\u001b[0m\u001b[0;34m]\u001b[0m \u001b[0;34m=\u001b[0m \u001b[0mtemp\u001b[0m\u001b[0;34m[\u001b[0m\u001b[0;36m0\u001b[0m\u001b[0;34m]\u001b[0m\u001b[0;34m\u001b[0m\u001b[0;34m\u001b[0m\u001b[0m\n\u001b[0;32m---> 24\u001b[0;31m             \u001b[0mbooks\u001b[0m\u001b[0;34m[\u001b[0m\u001b[0mcounter\u001b[0m\u001b[0;34m]\u001b[0m\u001b[0;34m[\u001b[0m\u001b[0;34m'Author'\u001b[0m\u001b[0;34m]\u001b[0m \u001b[0;34m=\u001b[0m \u001b[0mtemp\u001b[0m\u001b[0;34m[\u001b[0m\u001b[0;36m1\u001b[0m\u001b[0;34m]\u001b[0m\u001b[0;34m\u001b[0m\u001b[0;34m\u001b[0m\u001b[0m\n\u001b[0m\u001b[1;32m     25\u001b[0m \u001b[0;34m\u001b[0m\u001b[0m\n\u001b[1;32m     26\u001b[0m             \u001b[0mcounter\u001b[0m \u001b[0;34m+=\u001b[0m\u001b[0;36m1\u001b[0m\u001b[0;34m\u001b[0m\u001b[0;34m\u001b[0m\u001b[0m\n",
      "\u001b[0;31mIndexError\u001b[0m: list index out of range"
     ]
    }
   ],
   "source": [
    "# OK let's go back to the 1500s and try get them all\n",
    "from time import sleep\n",
    "browser.find_element_by_partial_link_text(\"Prev\").click()\n",
    "\n",
    "carry_on = True\n",
    "books = {}\n",
    "counter = 0\n",
    "while carry_on:\n",
    "    html_source = browser.page_source\n",
    "    soup = BeautifulSoup(html_source, 'html.parser')\n",
    "    \n",
    "    for i in soup.findAll('li'):\n",
    "        if i.a == None:\n",
    "            books[counter] = {}\n",
    "        \n",
    "            book = i.string\n",
    "            # print(book)\n",
    "        \n",
    "            books[counter]['Year'] = int(book[:4])\n",
    "        \n",
    "            temp = book[6:].split(' by ')\n",
    "        \n",
    "            books[counter]['Title'] = temp[0]\n",
    "            books[counter]['Author'] = temp[1]\n",
    "        \n",
    "            counter +=1\n",
    "            \n",
    "    try:\n",
    "        browser.find_element_by_partial_link_text(\"Next\").click()\n",
    "        sleep(2)\n",
    "    except:\n",
    "        carry_on=False"
   ]
  },
  {
   "cell_type": "code",
   "execution_count": 37,
   "metadata": {},
   "outputs": [
    {
     "name": "stdout",
     "output_type": "stream",
     "text": [
      "   Year                                              Title  \\\n",
      "0  1591                                   King Richard III   \n",
      "1  1599                                     As You Like It   \n",
      "2  1603                                             Hamlet   \n",
      "3  1623                                            Macbeth   \n",
      "4  1669             The Diary of Samuel Pepys: A Selection   \n",
      "5  1759  The Life and Opinions of Tristram Shandy, Gent...   \n",
      "6  1790                               Mutiny on the Bounty   \n",
      "7  1798                    The Rime of the Ancient Mariner   \n",
      "8  1800                                             o 1850   \n",
      "\n",
      "                    Author  \n",
      "0      William Shakespeare  \n",
      "1      William Shakespeare  \n",
      "2      William Shakespeare  \n",
      "3      William Shakespeare  \n",
      "4             Samuel Pepys  \n",
      "5          Laurence Sterne  \n",
      "6            William Bligh  \n",
      "7  Samuel Taylor Coleridge  \n",
      "8                      NaN  \n"
     ]
    }
   ],
   "source": [
    "df = pd.DataFrame(books).T\n",
    "print(df)"
   ]
  },
  {
   "cell_type": "code",
   "execution_count": 38,
   "metadata": {},
   "outputs": [
    {
     "name": "stdout",
     "output_type": "stream",
     "text": [
      "   Year                                              Title  \\\n",
      "0  1591                                   King Richard III   \n",
      "1  1599                                     As You Like It   \n",
      "2  1603                                             Hamlet   \n",
      "3  1623                                            Macbeth   \n",
      "4  1669             The Diary of Samuel Pepys: A Selection   \n",
      "5  1759  The Life and Opinions of Tristram Shandy, Gent...   \n",
      "6  1790                               Mutiny on the Bounty   \n",
      "7  1798                    The Rime of the Ancient Mariner   \n",
      "\n",
      "                    Author  \n",
      "0      William Shakespeare  \n",
      "1      William Shakespeare  \n",
      "2      William Shakespeare  \n",
      "3      William Shakespeare  \n",
      "4             Samuel Pepys  \n",
      "5          Laurence Sterne  \n",
      "6            William Bligh  \n",
      "7  Samuel Taylor Coleridge  \n"
     ]
    }
   ],
   "source": [
    "books = {}\n",
    "counter = 0\n",
    "for century in ['/1500', '/1600', '/1700']:\n",
    "    browser.get(base_url + 'library' + century)\n",
    "    html_source = browser.page_source\n",
    "    soup = BeautifulSoup(html_source, 'html.parser')\n",
    "    \n",
    "#     # Alternative with requests\n",
    "#     html = requests.get(base_url + 'library' + century, timeout=1)\n",
    "#     soup = BeautifulSoup(html.text, 'html.parser')\n",
    "    \n",
    "    for i in soup.findAll('li'):\n",
    "        if i.a == None:\n",
    "            books[counter] = {}\n",
    "\n",
    "            book = i.string\n",
    "            # print(book)\n",
    "\n",
    "            books[counter]['Year'] = int(book[:4])\n",
    "\n",
    "            temp = book[6:].split(' by ')\n",
    "\n",
    "            books[counter]['Title'] = temp[0]\n",
    "            books[counter]['Author'] = temp[1]\n",
    "\n",
    "            counter +=1\n",
    "    \n",
    "    sleep(2)\n",
    "\n",
    "df = pd.DataFrame(books).T\n",
    "print(df)"
   ]
  },
  {
   "cell_type": "code",
   "execution_count": 39,
   "metadata": {},
   "outputs": [],
   "source": [
    "# Now for the 1800s, 1900s and 2000s\n",
    "for century in ['/1800', '/1900', '/2000']:\n",
    "    browser.get(base_url + 'library' + century)\n",
    "    html_source = browser.page_source\n",
    "    soup = BeautifulSoup(html_source, 'html.parser')\n",
    "    \n",
    "#     # Alternative with requests\n",
    "#     html = requests.get(base_url + 'library' + century, timeout=1)\n",
    "#     soup = BeautifulSoup(html.text, 'html.parser')\n",
    "    \n",
    "    to_do = []\n",
    "    for i in soup.findAll('a'):\n",
    "        if '/library' + century in i['href']:\n",
    "            to_do.append(i['href'])\n",
    "    \n",
    "    for period in to_do:\n",
    "        browser.get(base_url + period)\n",
    "        html_source = browser.page_source\n",
    "        soup = BeautifulSoup(html_source, 'html.parser')\n",
    "        \n",
    "#         # Alternative with requests\n",
    "#         html = requests.get(base_url + period, timeout=1)\n",
    "#         soup = BeautifulSoup(html.text, 'html.parser')\n",
    "        \n",
    "        for i in soup.findAll('li'):\n",
    "            if i.a == None:\n",
    "                books[counter] = {}\n",
    "\n",
    "                book = i.string\n",
    "                # print(book)\n",
    "\n",
    "                books[counter]['Year'] = int(book[:4])\n",
    "\n",
    "                temp = book[6:].split(' by ')\n",
    "\n",
    "                books[counter]['Title'] = temp[0]\n",
    "                books[counter]['Author'] = temp[1]\n",
    "\n",
    "                counter +=1\n",
    "        \n",
    "        sleep(2)\n",
    "\n",
    "df = pd.DataFrame(books).T"
   ]
  },
  {
   "cell_type": "code",
   "execution_count": 41,
   "metadata": {},
   "outputs": [
    {
     "data": {
      "text/plain": [
       "array([[<matplotlib.axes._subplots.AxesSubplot object at 0x122e04710>]],\n",
       "      dtype=object)"
      ]
     },
     "execution_count": 41,
     "metadata": {},
     "output_type": "execute_result"
    },
    {
     "data": {
      "image/png": "[encoded data removed]",
      "text/plain": [
       "<Figure size 432x288 with 1 Axes>"
      ]
     },
     "metadata": {
      "needs_background": "light"
     },
     "output_type": "display_data"
    }
   ],
   "source": [
    "# Look to quickly plot the distribution of years\n",
    "df['Year'] = df['Year'].astype('int')\n",
    "df.hist(column='Year', bins=80)"
   ]
  },
  {
   "cell_type": "code",
   "execution_count": null,
   "metadata": {},
   "outputs": [],
   "source": []
  }
 ],
 "metadata": {
  "kernelspec": {
   "display_name": "Python 3",
   "language": "python",
   "name": "python3"
  },
  "language_info": {
   "codemirror_mode": {
    "name": "ipython",
    "version": 3
   },
   "file_extension": ".py",
   "mimetype": "text/x-python",
   "name": "python",
   "nbconvert_exporter": "python",
   "pygments_lexer": "ipython3",
   "version": "3.7.2"
  }
 },
 "nbformat": 4,
 "nbformat_minor": 2
}
